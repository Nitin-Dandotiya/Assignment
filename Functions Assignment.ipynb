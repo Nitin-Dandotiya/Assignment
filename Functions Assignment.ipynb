{
 "cells": [
  {
   "cell_type": "markdown",
   "id": "f27d348b",
   "metadata": {},
   "source": [
    "Q1. Which keyword is used to create a function? Create a function to return a list of odd numbers in the\n",
    "range of 1 to 25."
   ]
  },
  {
   "cell_type": "code",
   "execution_count": 2,
   "id": "5f01ab6c",
   "metadata": {},
   "outputs": [],
   "source": [
    "def test(): # keyword\n",
    "    pass"
   ]
  },
  {
   "cell_type": "code",
   "execution_count": 20,
   "id": "fe44160a",
   "metadata": {},
   "outputs": [],
   "source": [
    "l = list(range(1,21))\n",
    "\n",
    "def test2(a):\n",
    "    n = []\n",
    "    for i in a:\n",
    "        if i%2 != 0:\n",
    "            n.append(i)\n",
    "    return n"
   ]
  },
  {
   "cell_type": "code",
   "execution_count": 18,
   "id": "7ed34007",
   "metadata": {},
   "outputs": [
    {
     "data": {
      "text/plain": [
       "[1, 3, 5, 7, 9, 11, 13, 15, 17, 19]"
      ]
     },
     "execution_count": 18,
     "metadata": {},
     "output_type": "execute_result"
    }
   ],
   "source": [
    "test2(l)"
   ]
  },
  {
   "cell_type": "markdown",
   "id": "16213fb2",
   "metadata": {},
   "source": [
    "Q2. Why *args and **kwargs is used in some functions? Create a function each for *args and **kwargs to\n",
    "demonstrate their use."
   ]
  },
  {
   "cell_type": "code",
   "execution_count": 28,
   "id": "56f39649",
   "metadata": {},
   "outputs": [],
   "source": [
    "def test3(*args):     # *args use to take multiple aurguments \n",
    "    return args"
   ]
  },
  {
   "cell_type": "code",
   "execution_count": 37,
   "id": "dfc3b52a",
   "metadata": {},
   "outputs": [],
   "source": [
    "t=(1,2,3,4,5,6,'nitin','dandotiya')"
   ]
  },
  {
   "cell_type": "code",
   "execution_count": 38,
   "id": "ab6edb17",
   "metadata": {},
   "outputs": [
    {
     "data": {
      "text/plain": [
       "((1, 2, 3, 4, 5, 6, 'nitin', 'dandotiya'),)"
      ]
     },
     "execution_count": 38,
     "metadata": {},
     "output_type": "execute_result"
    }
   ],
   "source": [
    "test3(t)"
   ]
  },
  {
   "cell_type": "code",
   "execution_count": 57,
   "id": "00ea5101",
   "metadata": {},
   "outputs": [],
   "source": [
    "def test4(*args):   # *args use in function\n",
    "    n=[]\n",
    "    for i in args:\n",
    "        if isinstance(i,int):\n",
    "            n.append(i)\n",
    "    return n"
   ]
  },
  {
   "cell_type": "code",
   "execution_count": 61,
   "id": "445877e8",
   "metadata": {},
   "outputs": [
    {
     "data": {
      "text/plain": [
       "[1, 2, 3, 4, 5, 6]"
      ]
     },
     "execution_count": 61,
     "metadata": {},
     "output_type": "execute_result"
    }
   ],
   "source": [
    "test4(1,2,3,4,5,6,'nitin','dandotiya')"
   ]
  },
  {
   "cell_type": "code",
   "execution_count": 62,
   "id": "87d088ef",
   "metadata": {},
   "outputs": [],
   "source": [
    "def test5(**kwargs): # **kwargs use to take multiple aurguments in dict data structure\n",
    "    return kwargs"
   ]
  },
  {
   "cell_type": "code",
   "execution_count": 66,
   "id": "2e982b43",
   "metadata": {},
   "outputs": [
    {
     "data": {
      "text/plain": [
       "{'a': 1,\n",
       " 'b': 2,\n",
       " 'c': 3,\n",
       " 'd': 4,\n",
       " 'e': ('nitin', 'dandotiya', 'xyz'),\n",
       " 'f': ['data', 'Science']}"
      ]
     },
     "execution_count": 66,
     "metadata": {},
     "output_type": "execute_result"
    }
   ],
   "source": [
    "test5(a=1,b=2,c=3,d=4,e=('nitin','dandotiya','xyz'),f=['data','Science'])"
   ]
  },
  {
   "cell_type": "code",
   "execution_count": 89,
   "id": "cc85d9c3",
   "metadata": {},
   "outputs": [],
   "source": [
    "def test6(**kwargs):                          # **kwargs use in function \n",
    "    for i in kwargs.keys():\n",
    "        if type(kwargs[i]) == tuple:\n",
    "            return i, kwargs[i]"
   ]
  },
  {
   "cell_type": "code",
   "execution_count": 91,
   "id": "8512b118",
   "metadata": {},
   "outputs": [
    {
     "data": {
      "text/plain": [
       "('e', ('nitin', 'dandotiya', 'xyz'))"
      ]
     },
     "execution_count": 91,
     "metadata": {},
     "output_type": "execute_result"
    }
   ],
   "source": [
    "test6(a=1,b=2,c=3,d=4,e=('nitin','dandotiya','xyz'),f=['data','Science'])"
   ]
  },
  {
   "cell_type": "markdown",
   "id": "4b14817a",
   "metadata": {},
   "source": [
    "Q3. What is an iterator in python? Name the method used to initialise the iterator object and the method\n",
    "used for iteration. Use these methods to print the first five elements of the given list [2, 4, 6, 8, 10, 12, 14, 16,\n",
    "18, 20]."
   ]
  },
  {
   "cell_type": "code",
   "execution_count": 93,
   "id": "f2e87528",
   "metadata": {},
   "outputs": [],
   "source": [
    "m = [2, 4, 6, 8, 10, 12, 14, 16,18, 20] #"
   ]
  },
  {
   "cell_type": "code",
   "execution_count": 94,
   "id": "0185b282",
   "metadata": {},
   "outputs": [],
   "source": [
    "my_iterator = iter(m)"
   ]
  },
  {
   "cell_type": "code",
   "execution_count": 98,
   "id": "53e509ad",
   "metadata": {},
   "outputs": [
    {
     "name": "stdout",
     "output_type": "stream",
     "text": [
      "2\n",
      "4\n",
      "6\n",
      "8\n",
      "10\n"
     ]
    }
   ],
   "source": [
    "for i in range(5):\n",
    "    n = next(my_iterator)\n",
    "    print(n)"
   ]
  },
  {
   "cell_type": "markdown",
   "id": "540c58d3",
   "metadata": {},
   "source": [
    "Q4. What is a generator function in python? Why yield keyword is used? Give an example of a generator\n",
    "function."
   ]
  },
  {
   "cell_type": "code",
   "execution_count": null,
   "id": "7deba244",
   "metadata": {},
   "outputs": [],
   "source": [
    "# generator function is use to generate the value on demand instead to compute and store complete data sets."
   ]
  },
  {
   "cell_type": "code",
   "execution_count": 102,
   "id": "704264b3",
   "metadata": {},
   "outputs": [],
   "source": [
    "def test_gen(n):\n",
    "    a,b = 1,1\n",
    "    for i in range(n):\n",
    "        yield a\n",
    "        a = b\n",
    "        b = a+b\n",
    "        b= a*b"
   ]
  },
  {
   "cell_type": "code",
   "execution_count": 103,
   "id": "a5fdbf1b",
   "metadata": {},
   "outputs": [
    {
     "name": "stdout",
     "output_type": "stream",
     "text": [
      "1\n",
      "1\n",
      "2\n",
      "8\n",
      "128\n",
      "32768\n",
      "2147483648\n",
      "9223372036854775808\n",
      "170141183460469231731687303715884105728\n",
      "57896044618658097711785492504343953926634992332820282019728792003956564819968\n"
     ]
    }
   ],
   "source": [
    "for i in test_gen(10):\n",
    "    print(i)"
   ]
  },
  {
   "cell_type": "markdown",
   "id": "e3ee5bc9",
   "metadata": {},
   "source": [
    "Q5. Create a generator function for prime numbers less than 1000. Use the next() method to print the\n",
    "first 20 prime numbers."
   ]
  },
  {
   "cell_type": "markdown",
   "id": "cfa9439f",
   "metadata": {},
   "source": [
    "Have doubt in this question need to understand in detais.\n",
    "    "
   ]
  },
  {
   "cell_type": "code",
   "execution_count": null,
   "id": "e35cebd9",
   "metadata": {},
   "outputs": [],
   "source": []
  },
  {
   "cell_type": "code",
   "execution_count": null,
   "id": "fd279f2b",
   "metadata": {},
   "outputs": [],
   "source": []
  }
 ],
 "metadata": {
  "kernelspec": {
   "display_name": "Python 3 (ipykernel)",
   "language": "python",
   "name": "python3"
  },
  "language_info": {
   "codemirror_mode": {
    "name": "ipython",
    "version": 3
   },
   "file_extension": ".py",
   "mimetype": "text/x-python",
   "name": "python",
   "nbconvert_exporter": "python",
   "pygments_lexer": "ipython3",
   "version": "3.9.13"
  }
 },
 "nbformat": 4,
 "nbformat_minor": 5
}
