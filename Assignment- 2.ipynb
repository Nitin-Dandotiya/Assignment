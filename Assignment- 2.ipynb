{
 "cells": [
  {
   "cell_type": "markdown",
   "id": "7dd3ff6a",
   "metadata": {},
   "source": [
    "1. How do you comment code in Python? What are the different types of comments"
   ]
  },
  {
   "cell_type": "code",
   "execution_count": 6,
   "id": "9ca4e3c0",
   "metadata": {},
   "outputs": [],
   "source": [
    "# this is single line comment\n",
    "\"\"\"\" this is multiple lines \n",
    "      comment \"\"\"\n",
    "'''this is also multiple lines \n",
    "comment'''\n",
    "l = 9"
   ]
  },
  {
   "cell_type": "code",
   "execution_count": 7,
   "id": "dd71ba1d",
   "metadata": {},
   "outputs": [
    {
     "data": {
      "text/plain": [
       "9"
      ]
     },
     "execution_count": 7,
     "metadata": {},
     "output_type": "execute_result"
    }
   ],
   "source": [
    "l"
   ]
  },
  {
   "cell_type": "markdown",
   "id": "40004a2a",
   "metadata": {},
   "source": [
    "2. What are variables in Python? How do you declare and assign values to variables?"
   ]
  },
  {
   "cell_type": "code",
   "execution_count": 14,
   "id": "ec377782",
   "metadata": {},
   "outputs": [],
   "source": [
    "A = 1  # variable is memory location where data is stored"
   ]
  },
  {
   "cell_type": "code",
   "execution_count": 24,
   "id": "c2bd2fa1",
   "metadata": {},
   "outputs": [],
   "source": [
    "A = 1 # int assigned"
   ]
  },
  {
   "cell_type": "code",
   "execution_count": 23,
   "id": "d9e336bd",
   "metadata": {},
   "outputs": [],
   "source": [
    "B =  'Nitin' # String assignemnt "
   ]
  },
  {
   "cell_type": "code",
   "execution_count": 22,
   "id": "a709a008",
   "metadata": {},
   "outputs": [],
   "source": [
    "C = 1.5 # float assignment "
   ]
  },
  {
   "cell_type": "code",
   "execution_count": 21,
   "id": "adc1a4f0",
   "metadata": {},
   "outputs": [],
   "source": [
    "D = True # boolean assignment"
   ]
  },
  {
   "cell_type": "code",
   "execution_count": 20,
   "id": "2434ebba",
   "metadata": {},
   "outputs": [],
   "source": [
    "E = [1,2,3,4,5] #list assignment "
   ]
  },
  {
   "cell_type": "code",
   "execution_count": 19,
   "id": "766ef540",
   "metadata": {},
   "outputs": [],
   "source": [
    "F = (6,7)    # tuple assignment "
   ]
  },
  {
   "cell_type": "code",
   "execution_count": 18,
   "id": "006c7270",
   "metadata": {},
   "outputs": [],
   "source": [
    "G = {8,9}  # set assignment "
   ]
  },
  {
   "cell_type": "code",
   "execution_count": 17,
   "id": "50d83238",
   "metadata": {},
   "outputs": [],
   "source": [
    "H = {'a': 1, 'b':2}  # Dict assignment "
   ]
  },
  {
   "cell_type": "code",
   "execution_count": 25,
   "id": "ec1d9bff",
   "metadata": {},
   "outputs": [
    {
     "name": "stdout",
     "output_type": "stream",
     "text": [
      "1 Nitin 1.5 True [1, 2, 3, 4, 5] (6, 7) {8, 9} {'a': 1, 'b': 2}\n"
     ]
    }
   ],
   "source": [
    "print(A,B,C,D,E,F,G,H)"
   ]
  },
  {
   "cell_type": "markdown",
   "id": "35a9df9d",
   "metadata": {},
   "source": [
    "3. How do you convert one data type to another in Python"
   ]
  },
  {
   "cell_type": "code",
   "execution_count": 27,
   "id": "4fddff3d",
   "metadata": {},
   "outputs": [],
   "source": [
    "l = ['a','b',1,2,3]"
   ]
  },
  {
   "cell_type": "code",
   "execution_count": 29,
   "id": "7ae269d5",
   "metadata": {},
   "outputs": [],
   "source": [
    "t = tuple(l)  # change data type"
   ]
  },
  {
   "cell_type": "code",
   "execution_count": 32,
   "id": "25e64547",
   "metadata": {},
   "outputs": [],
   "source": [
    "s = set(l)"
   ]
  },
  {
   "cell_type": "code",
   "execution_count": 43,
   "id": "d1fd5f4b",
   "metadata": {},
   "outputs": [],
   "source": [
    "d = 'nitin'"
   ]
  },
  {
   "cell_type": "code",
   "execution_count": 44,
   "id": "38046832",
   "metadata": {},
   "outputs": [],
   "source": [
    "e = list(d)"
   ]
  },
  {
   "cell_type": "code",
   "execution_count": 47,
   "id": "e1b791d7",
   "metadata": {},
   "outputs": [],
   "source": [
    "f = tuple(d)"
   ]
  },
  {
   "cell_type": "code",
   "execution_count": 50,
   "id": "933a94b5",
   "metadata": {},
   "outputs": [],
   "source": [
    "g = [(1,2),(3,4),(5,6),(7,8)]"
   ]
  },
  {
   "cell_type": "code",
   "execution_count": 51,
   "id": "9e583589",
   "metadata": {},
   "outputs": [],
   "source": [
    "h = dict(g)"
   ]
  },
  {
   "cell_type": "code",
   "execution_count": 34,
   "id": "9d1f1b84",
   "metadata": {},
   "outputs": [],
   "source": [
    "a = 5"
   ]
  },
  {
   "cell_type": "code",
   "execution_count": 36,
   "id": "ee3d7c5b",
   "metadata": {},
   "outputs": [],
   "source": [
    "b = str(a)"
   ]
  },
  {
   "cell_type": "code",
   "execution_count": 38,
   "id": "e3305bcf",
   "metadata": {},
   "outputs": [],
   "source": [
    "c = float(a)"
   ]
  },
  {
   "cell_type": "code",
   "execution_count": 40,
   "id": "ab1a7303",
   "metadata": {},
   "outputs": [],
   "source": [
    "d = bool(a)"
   ]
  },
  {
   "cell_type": "code",
   "execution_count": 62,
   "id": "7e925558",
   "metadata": {},
   "outputs": [
    {
     "name": "stdout",
     "output_type": "stream",
     "text": [
      "['a', 'b', 1, 2, 3] ('a', 'b', 1, 2, 3) {1, 2, 3, 'a', 'b'} nitin ['n', 'i', 't', 'i', 'n'] ('n', 'i', 't', 'i', 'n') [(1, 2), (3, 4), (5, 6), (7, 8)] {1: 2, 3: 4, 5: 6, 7: 8} 5 5 5.0 nitin\n"
     ]
    }
   ],
   "source": [
    "print(l,t,s,d,e,f,g,h,a,b,c,d)"
   ]
  },
  {
   "cell_type": "markdown",
   "id": "6b9b8077",
   "metadata": {},
   "source": [
    "Q4. How do you write and execute a Python script from the command line?"
   ]
  },
  {
   "cell_type": "markdown",
   "id": "2f2c99ad",
   "metadata": {},
   "source": [
    "Save file with .py extension and open CMD. Go in the file available directory and write command python or python3 file_name.py and press enter."
   ]
  },
  {
   "cell_type": "markdown",
   "id": "8e2afadf",
   "metadata": {},
   "source": [
    "Q5. Given a list my_list = [1, 2, 3, 4, 5], write the code to slice the list and obtain the sub-list [2, 3]"
   ]
  },
  {
   "cell_type": "code",
   "execution_count": 63,
   "id": "ba84d67f",
   "metadata": {},
   "outputs": [],
   "source": [
    "my_list = [1,2,3,4,5]"
   ]
  },
  {
   "cell_type": "code",
   "execution_count": 73,
   "id": "491e4b7b",
   "metadata": {},
   "outputs": [],
   "source": [
    "sub_list = my_list[1:3]"
   ]
  },
  {
   "cell_type": "code",
   "execution_count": 74,
   "id": "3379af0c",
   "metadata": {},
   "outputs": [
    {
     "data": {
      "text/plain": [
       "[2, 3]"
      ]
     },
     "execution_count": 74,
     "metadata": {},
     "output_type": "execute_result"
    }
   ],
   "source": [
    "sub_list"
   ]
  },
  {
   "cell_type": "markdown",
   "id": "7eb5bf1a",
   "metadata": {},
   "source": [
    "Q6. What is a complex number in mathematics, and how is it represented in Python?"
   ]
  },
  {
   "cell_type": "code",
   "execution_count": null,
   "id": "a68d96a9",
   "metadata": {},
   "outputs": [],
   "source": [
    "c = a+bi #In mathematics a and b are real numbers and i is imaginery number"
   ]
  },
  {
   "cell_type": "code",
   "execution_count": 75,
   "id": "c3a21140",
   "metadata": {},
   "outputs": [],
   "source": [
    "c = 2+3j  # In python "
   ]
  },
  {
   "cell_type": "code",
   "execution_count": 77,
   "id": "5fd47394",
   "metadata": {},
   "outputs": [
    {
     "data": {
      "text/plain": [
       "complex"
      ]
     },
     "execution_count": 77,
     "metadata": {},
     "output_type": "execute_result"
    }
   ],
   "source": [
    "type(c)  "
   ]
  },
  {
   "cell_type": "markdown",
   "id": "e03d69a4",
   "metadata": {},
   "source": [
    "Q7. What is the correct way to declare a variable named age and assign the value 25 to it?"
   ]
  },
  {
   "cell_type": "code",
   "execution_count": 78,
   "id": "5da9364a",
   "metadata": {},
   "outputs": [],
   "source": [
    "age = 25"
   ]
  },
  {
   "cell_type": "code",
   "execution_count": 79,
   "id": "d0b03664",
   "metadata": {},
   "outputs": [
    {
     "data": {
      "text/plain": [
       "25"
      ]
     },
     "execution_count": 79,
     "metadata": {},
     "output_type": "execute_result"
    }
   ],
   "source": [
    "age"
   ]
  },
  {
   "cell_type": "markdown",
   "id": "1a6e5270",
   "metadata": {},
   "source": [
    "Q8. Declare a variable named price and assign the value 9.99 to it. What data type does this variable\n",
    "belong to?"
   ]
  },
  {
   "cell_type": "code",
   "execution_count": 80,
   "id": "cab87ed2",
   "metadata": {},
   "outputs": [],
   "source": [
    "price = 9.99 # data type float "
   ]
  },
  {
   "cell_type": "code",
   "execution_count": 81,
   "id": "6e8aeb2e",
   "metadata": {},
   "outputs": [
    {
     "data": {
      "text/plain": [
       "float"
      ]
     },
     "execution_count": 81,
     "metadata": {},
     "output_type": "execute_result"
    }
   ],
   "source": [
    "type(price)"
   ]
  },
  {
   "cell_type": "markdown",
   "id": "7623fb67",
   "metadata": {},
   "source": [
    "Q9. Create a variable named name and assign your full name to it as a string. How would you print the\n",
    "value of this variable?"
   ]
  },
  {
   "cell_type": "code",
   "execution_count": 82,
   "id": "fa5444c4",
   "metadata": {},
   "outputs": [],
   "source": [
    "name = 'Nitin Dandotiya'"
   ]
  },
  {
   "cell_type": "code",
   "execution_count": 83,
   "id": "a61ad867",
   "metadata": {},
   "outputs": [
    {
     "name": "stdout",
     "output_type": "stream",
     "text": [
      "Nitin Dandotiya\n"
     ]
    }
   ],
   "source": [
    "print(name)"
   ]
  },
  {
   "cell_type": "markdown",
   "id": "efeb4f6a",
   "metadata": {},
   "source": [
    "Q10. Given the string \"Hello, World!\", extract the substring \"World\"."
   ]
  },
  {
   "cell_type": "code",
   "execution_count": 84,
   "id": "c38ec3d8",
   "metadata": {},
   "outputs": [],
   "source": [
    "a = \"Hello World!\""
   ]
  },
  {
   "cell_type": "code",
   "execution_count": 89,
   "id": "5dde1479",
   "metadata": {},
   "outputs": [
    {
     "data": {
      "text/plain": [
       "'World'"
      ]
     },
     "execution_count": 89,
     "metadata": {},
     "output_type": "execute_result"
    }
   ],
   "source": [
    "a[6:11]"
   ]
  },
  {
   "cell_type": "markdown",
   "id": "59b6d7a2",
   "metadata": {},
   "source": [
    "Q11. Create a variable named \"is_student\" and assign it a boolean value indicating whether you are\n",
    "currently a student or not."
   ]
  },
  {
   "cell_type": "code",
   "execution_count": 94,
   "id": "562f9dc2",
   "metadata": {},
   "outputs": [],
   "source": [
    "is_student = False"
   ]
  },
  {
   "cell_type": "code",
   "execution_count": null,
   "id": "9ef43a6b",
   "metadata": {},
   "outputs": [],
   "source": []
  },
  {
   "cell_type": "code",
   "execution_count": null,
   "id": "2bc109b1",
   "metadata": {},
   "outputs": [],
   "source": []
  },
  {
   "cell_type": "code",
   "execution_count": null,
   "id": "b2195aba",
   "metadata": {},
   "outputs": [],
   "source": []
  },
  {
   "cell_type": "code",
   "execution_count": null,
   "id": "1500e114",
   "metadata": {},
   "outputs": [],
   "source": []
  }
 ],
 "metadata": {
  "kernelspec": {
   "display_name": "Python 3 (ipykernel)",
   "language": "python",
   "name": "python3"
  },
  "language_info": {
   "codemirror_mode": {
    "name": "ipython",
    "version": 3
   },
   "file_extension": ".py",
   "mimetype": "text/x-python",
   "name": "python",
   "nbconvert_exporter": "python",
   "pygments_lexer": "ipython3",
   "version": "3.9.13"
  }
 },
 "nbformat": 4,
 "nbformat_minor": 5
}
