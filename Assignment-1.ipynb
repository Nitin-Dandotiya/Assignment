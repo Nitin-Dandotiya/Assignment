{
 "cells": [
  {
   "cell_type": "code",
   "execution_count": 1,
   "id": "e2fdca7e",
   "metadata": {},
   "outputs": [],
   "source": [
    "x = 'nitin'"
   ]
  },
  {
   "cell_type": "code",
   "execution_count": 33,
   "id": "418b2731",
   "metadata": {},
   "outputs": [
    {
     "data": {
      "text/plain": [
       "str"
      ]
     },
     "execution_count": 33,
     "metadata": {},
     "output_type": "execute_result"
    }
   ],
   "source": [
    "type(x)"
   ]
  },
  {
   "cell_type": "code",
   "execution_count": 28,
   "id": "3ba7be9d",
   "metadata": {},
   "outputs": [],
   "source": [
    "y = [1,'abc', 2.5, 3+7j]"
   ]
  },
  {
   "cell_type": "code",
   "execution_count": 32,
   "id": "b9629ee4",
   "metadata": {},
   "outputs": [
    {
     "data": {
      "text/plain": [
       "list"
      ]
     },
     "execution_count": 32,
     "metadata": {},
     "output_type": "execute_result"
    }
   ],
   "source": [
    "type(y)"
   ]
  },
  {
   "cell_type": "code",
   "execution_count": 30,
   "id": "455ab9aa",
   "metadata": {},
   "outputs": [],
   "source": [
    "z = 1.5"
   ]
  },
  {
   "cell_type": "code",
   "execution_count": 31,
   "id": "7c0e2199",
   "metadata": {},
   "outputs": [
    {
     "data": {
      "text/plain": [
       "float"
      ]
     },
     "execution_count": 31,
     "metadata": {},
     "output_type": "execute_result"
    }
   ],
   "source": [
    "type(z)"
   ]
  },
  {
   "cell_type": "code",
   "execution_count": 34,
   "id": "cf45db0a",
   "metadata": {},
   "outputs": [],
   "source": [
    "a = (1 , 'b', 2, 'c',3)"
   ]
  },
  {
   "cell_type": "code",
   "execution_count": 35,
   "id": "f8c76921",
   "metadata": {},
   "outputs": [
    {
     "data": {
      "text/plain": [
       "tuple"
      ]
     },
     "execution_count": 35,
     "metadata": {},
     "output_type": "execute_result"
    }
   ],
   "source": [
    "type(a)"
   ]
  },
  {
   "cell_type": "code",
   "execution_count": 23,
   "id": "86320894",
   "metadata": {},
   "outputs": [],
   "source": [
    "var1 = ''\n",
    "var2 = '[DS, ML, Python]'\n",
    "var3 = ['DS', 'ML', 'python']\n",
    "var4 = 1"
   ]
  },
  {
   "cell_type": "code",
   "execution_count": 24,
   "id": "f0ff9886",
   "metadata": {},
   "outputs": [
    {
     "data": {
      "text/plain": [
       "str"
      ]
     },
     "execution_count": 24,
     "metadata": {},
     "output_type": "execute_result"
    }
   ],
   "source": [
    "type(var1)"
   ]
  },
  {
   "cell_type": "code",
   "execution_count": 25,
   "id": "98923629",
   "metadata": {},
   "outputs": [
    {
     "data": {
      "text/plain": [
       "str"
      ]
     },
     "execution_count": 25,
     "metadata": {},
     "output_type": "execute_result"
    }
   ],
   "source": [
    "type(var2)\n"
   ]
  },
  {
   "cell_type": "code",
   "execution_count": 20,
   "id": "4743c619",
   "metadata": {},
   "outputs": [
    {
     "data": {
      "text/plain": [
       "list"
      ]
     },
     "execution_count": 20,
     "metadata": {},
     "output_type": "execute_result"
    }
   ],
   "source": [
    "type(var3)"
   ]
  },
  {
   "cell_type": "code",
   "execution_count": 21,
   "id": "dd63bbaf",
   "metadata": {},
   "outputs": [
    {
     "data": {
      "text/plain": [
       "int"
      ]
     },
     "execution_count": 21,
     "metadata": {},
     "output_type": "execute_result"
    }
   ],
   "source": [
    "type(var4)"
   ]
  },
  {
   "cell_type": "code",
   "execution_count": 38,
   "id": "3344841d",
   "metadata": {},
   "outputs": [
    {
     "data": {
      "text/plain": [
       "5.0"
      ]
     },
     "execution_count": 38,
     "metadata": {},
     "output_type": "execute_result"
    }
   ],
   "source": [
    "10/2  # use for divison purpose "
   ]
  },
  {
   "cell_type": "code",
   "execution_count": 41,
   "id": "8ac0b058",
   "metadata": {},
   "outputs": [
    {
     "data": {
      "text/plain": [
       "1"
      ]
     },
     "execution_count": 41,
     "metadata": {},
     "output_type": "execute_result"
    }
   ],
   "source": [
    "10%3  # use to know the reminder"
   ]
  },
  {
   "cell_type": "code",
   "execution_count": 44,
   "id": "6c8b574b",
   "metadata": {},
   "outputs": [
    {
     "data": {
      "text/plain": [
       "5"
      ]
     },
     "execution_count": 44,
     "metadata": {},
     "output_type": "execute_result"
    }
   ],
   "source": [
    "10//2  # use to know quotient"
   ]
  },
  {
   "cell_type": "code",
   "execution_count": 45,
   "id": "822e9383",
   "metadata": {},
   "outputs": [
    {
     "data": {
      "text/plain": [
       "8"
      ]
     },
     "execution_count": 45,
     "metadata": {},
     "output_type": "execute_result"
    }
   ],
   "source": [
    "2**3  # 2 to the power 3 "
   ]
  },
  {
   "cell_type": "code",
   "execution_count": 1,
   "id": "9e46d99b",
   "metadata": {},
   "outputs": [],
   "source": [
    "A = [1,1.5,'x','y','z',3+8j,2,3,4,5]"
   ]
  },
  {
   "cell_type": "code",
   "execution_count": 2,
   "id": "f91f8545",
   "metadata": {},
   "outputs": [
    {
     "name": "stdout",
     "output_type": "stream",
     "text": [
      "1\n",
      "data type of list <class 'int'>\n",
      "1.5\n",
      "data type of list <class 'float'>\n",
      "x\n",
      "data type of list <class 'str'>\n",
      "y\n",
      "data type of list <class 'str'>\n",
      "z\n",
      "data type of list <class 'str'>\n",
      "(3+8j)\n",
      "data type of list <class 'complex'>\n",
      "2\n",
      "data type of list <class 'int'>\n",
      "3\n",
      "data type of list <class 'int'>\n",
      "4\n",
      "data type of list <class 'int'>\n",
      "5\n",
      "data type of list <class 'int'>\n"
     ]
    }
   ],
   "source": [
    "for i in A:\n",
    "    print(i)\n",
    "    print('data type of list', type(i))"
   ]
  },
  {
   "cell_type": "code",
   "execution_count": null,
   "id": "d3d679c1",
   "metadata": {},
   "outputs": [],
   "source": [
    "A = int(input(\"Enter the value of A: \"))\n",
    "B = int(input(\"Enter the value of A: \"))\n",
    "\n",
    "count = 0 \n",
    "\n",
    "     while A >= B:\n",
    "           A = A-B\n",
    "        count += 1\n",
    "    \n",
    "    If A == 0:\n",
    "        \n",
    "        \n",
    "    \n",
    "\n",
    "\n",
    "\n"
   ]
  },
  {
   "cell_type": "code",
   "execution_count": 14,
   "id": "ad7e2f3d",
   "metadata": {},
   "outputs": [
    {
     "name": "stdout",
     "output_type": "stream",
     "text": [
      "Enter the value of A: 300\n",
      "Enter the value of A: 3\n",
      "No of times A divided by B:  100\n"
     ]
    }
   ],
   "source": [
    "A = int(input(\"Enter the value of A: \"))\n",
    "B = int(input(\"Enter the value of A: \"))\n",
    "count = 0 \n",
    "\n",
    "while A >= B:\n",
    "    A = A - B\n",
    "    count += 1\n",
    "    \n",
    "if A == 0:\n",
    "    print('No of times A divided by B: ', count)\n",
    "        \n",
    "else:\n",
    "    print(\"Not divisable\")"
   ]
  },
  {
   "cell_type": "code",
   "execution_count": 16,
   "id": "5da24b4a",
   "metadata": {},
   "outputs": [],
   "source": []
  },
  {
   "cell_type": "code",
   "execution_count": 21,
   "id": "3b216a29",
   "metadata": {},
   "outputs": [
    {
     "name": "stdout",
     "output_type": "stream",
     "text": [
      "2 number not divisble by 3 \n",
      "7 number not divisble by 3 \n",
      "12 number divisible by 3\n",
      "15 number divisible by 3\n",
      "18 number divisible by 3\n",
      "21 number divisible by 3\n",
      "25 number not divisble by 3 \n",
      "30 number divisible by 3\n",
      "33 number divisible by 3\n",
      "36 number divisible by 3\n",
      "40 number not divisble by 3 \n",
      "42 number divisible by 3\n",
      "45 number divisible by 3\n",
      "50 number not divisble by 3 \n",
      "55 number not divisble by 3 \n",
      "60 number divisible by 3\n",
      "63 number divisible by 3\n",
      "66 number divisible by 3\n",
      "70 number not divisble by 3 \n",
      "72 number divisible by 3\n",
      "75 number divisible by 3\n",
      "80 number not divisble by 3 \n",
      "85 number not divisble by 3 \n",
      "90 number divisible by 3\n",
      "93 number divisible by 3\n"
     ]
    }
   ],
   "source": [
    "N = [2, 7, 12, 15, 18, 21, 25, 30, 33, 36, 40, 42, 45, 50, 55, 60, 63, 66, 70, 72, 75, 80, 85, 90, 93]\n",
    "for i in N:\n",
    "    if i%3 == 0:\n",
    "        print(i,\"number divisible by 3\")\n",
    "    else:\n",
    "        print(i,\"number not divisble by 3 \")    "
   ]
  },
  {
   "cell_type": "code",
   "execution_count": 22,
   "id": "83595067",
   "metadata": {},
   "outputs": [],
   "source": [
    "A = 'Nitin' # immutable "
   ]
  },
  {
   "cell_type": "code",
   "execution_count": 26,
   "id": "780255b1",
   "metadata": {},
   "outputs": [
    {
     "data": {
      "text/plain": [
       "'N'"
      ]
     },
     "execution_count": 26,
     "metadata": {},
     "output_type": "execute_result"
    }
   ],
   "source": [
    "A[0]"
   ]
  },
  {
   "cell_type": "code",
   "execution_count": 24,
   "id": "1b48d0c8",
   "metadata": {},
   "outputs": [],
   "source": [
    "B = [1, 2,3,4,5]  # mutable "
   ]
  },
  {
   "cell_type": "code",
   "execution_count": 28,
   "id": "31d4e2c6",
   "metadata": {},
   "outputs": [],
   "source": [
    "B[0] = 10"
   ]
  },
  {
   "cell_type": "code",
   "execution_count": 29,
   "id": "9957343c",
   "metadata": {},
   "outputs": [
    {
     "data": {
      "text/plain": [
       "[10, 2, 3, 4, 5]"
      ]
     },
     "execution_count": 29,
     "metadata": {},
     "output_type": "execute_result"
    }
   ],
   "source": [
    "B"
   ]
  },
  {
   "cell_type": "code",
   "execution_count": null,
   "id": "3ccf148c",
   "metadata": {},
   "outputs": [],
   "source": []
  },
  {
   "cell_type": "code",
   "execution_count": null,
   "id": "9bf4cb6c",
   "metadata": {},
   "outputs": [],
   "source": []
  }
 ],
 "metadata": {
  "kernelspec": {
   "display_name": "Python 3 (ipykernel)",
   "language": "python",
   "name": "python3"
  },
  "language_info": {
   "codemirror_mode": {
    "name": "ipython",
    "version": 3
   },
   "file_extension": ".py",
   "mimetype": "text/x-python",
   "name": "python",
   "nbconvert_exporter": "python",
   "pygments_lexer": "ipython3",
   "version": "3.9.13"
  }
 },
 "nbformat": 4,
 "nbformat_minor": 5
}
